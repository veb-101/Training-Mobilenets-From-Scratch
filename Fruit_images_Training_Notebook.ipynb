{
  "cells": [
    {
      "cell_type": "code",
      "execution_count": null,
      "metadata": {
        "ExecuteTime": {
          "end_time": "2022-10-01T00:56:42.670241Z",
          "start_time": "2022-10-01T00:56:42.656246Z"
        },
        "id": "rx4x2YcaJ7SK"
      },
      "outputs": [],
      "source": [
        "# # Dataset: https://www.kaggle.com/datasets/balraj98/apple2orange-dataset\n",
        "# ! gdown 1eS__rA2XsX0pl_PSnZdunOouEyxYmUar\n",
        "# !unzip -qq fruit_images.zip"
      ]
    },
    {
      "cell_type": "code",
      "source": [
        "# On linux, mixed-precision works properly but on windows there's an issue.\n",
        "# For windows, everything tensorflow related needs to be in the same script or notebook."
      ],
      "metadata": {
        "id": "LM1xLzg1RU5P"
      },
      "execution_count": null,
      "outputs": []
    },
    {
      "cell_type": "code",
      "source": [
        "!nvidia-smi"
      ],
      "metadata": {
        "colab": {
          "base_uri": "https://localhost:8080/"
        },
        "id": "8UFTuVzqKM5-",
        "outputId": "f264679f-f539-4bb6-a62e-7a212ae683fc"
      },
      "execution_count": null,
      "outputs": [
        {
          "output_type": "stream",
          "name": "stdout",
          "text": [
            "Sat Oct  1 06:36:42 2022       \n",
            "+-----------------------------------------------------------------------------+\n",
            "| NVIDIA-SMI 460.32.03    Driver Version: 460.32.03    CUDA Version: 11.2     |\n",
            "|-------------------------------+----------------------+----------------------+\n",
            "| GPU  Name        Persistence-M| Bus-Id        Disp.A | Volatile Uncorr. ECC |\n",
            "| Fan  Temp  Perf  Pwr:Usage/Cap|         Memory-Usage | GPU-Util  Compute M. |\n",
            "|                               |                      |               MIG M. |\n",
            "|===============================+======================+======================|\n",
            "|   0  Tesla T4            Off  | 00000000:00:04.0 Off |                    0 |\n",
            "| N/A   48C    P8    10W /  70W |      0MiB / 15109MiB |      0%      Default |\n",
            "|                               |                      |                  N/A |\n",
            "+-------------------------------+----------------------+----------------------+\n",
            "                                                                               \n",
            "+-----------------------------------------------------------------------------+\n",
            "| Processes:                                                                  |\n",
            "|  GPU   GI   CI        PID   Type   Process name                  GPU Memory |\n",
            "|        ID   ID                                                   Usage      |\n",
            "|=============================================================================|\n",
            "|  No running processes found                                                 |\n",
            "+-----------------------------------------------------------------------------+\n"
          ]
        }
      ]
    },
    {
      "cell_type": "code",
      "source": [
        "# !nvidia-smi --query-gpu=utilization.gpu,utilization.memory,memory.total,memory.free,memory.used --format=csv"
      ],
      "metadata": {
        "id": "7b1H4N6kKvgo"
      },
      "execution_count": null,
      "outputs": []
    },
    {
      "cell_type": "code",
      "source": [
        "# !pip install -U watermark livelossplot"
      ],
      "metadata": {
        "id": "pglOX4tVKKI_"
      },
      "execution_count": null,
      "outputs": []
    },
    {
      "cell_type": "code",
      "execution_count": null,
      "metadata": {
        "ExecuteTime": {
          "end_time": "2022-10-01T00:56:42.700239Z",
          "start_time": "2022-10-01T00:56:42.671241Z"
        },
        "colab": {
          "base_uri": "https://localhost:8080/"
        },
        "id": "EZ09tOy5J7SP",
        "outputId": "b31ff71c-d580-4bd1-f630-e55b08fc805b"
      },
      "outputs": [
        {
          "output_type": "stream",
          "name": "stdout",
          "text": [
            "Author: Vaibhav Singh\n",
            "\n",
            "Last updated: 2022-10-01T06:36:42.781088+00:00\n",
            "\n",
            "Python implementation: CPython\n",
            "Python version       : 3.7.14\n",
            "IPython version      : 7.9.0\n",
            "\n",
            "Compiler    : GCC 7.5.0\n",
            "OS          : Linux\n",
            "Release     : 5.10.133+\n",
            "Machine     : x86_64\n",
            "Processor   : x86_64\n",
            "CPU cores   : 2\n",
            "Architecture: 64bit\n",
            "\n"
          ]
        }
      ],
      "source": [
        "%reload_ext watermark\n",
        "%watermark -a \"Vaibhav Singh\" \n",
        "%watermark"
      ]
    },
    {
      "cell_type": "code",
      "execution_count": null,
      "metadata": {
        "ExecuteTime": {
          "end_time": "2022-10-01T00:56:47.156883Z",
          "start_time": "2022-10-01T00:56:42.702239Z"
        },
        "id": "gJy7VIAI7cFW",
        "colab": {
          "base_uri": "https://localhost:8080/"
        },
        "outputId": "cb571ddf-4fab-4058-db71-4cf1d5ad4999"
      },
      "outputs": [
        {
          "output_type": "stream",
          "name": "stdout",
          "text": [
            "numpy     : 1.21.6\n",
            "tensorflow: 2.8.2+zzzcolab20220719082949\n",
            "matplotlib: 3.2.2\n",
            "\n"
          ]
        }
      ],
      "source": [
        "import os\n",
        "import numpy as np\n",
        "import matplotlib.pyplot as plt\n",
        "from dataclasses import dataclass\n",
        "# from livelossplot import PlotLossesKerasTF\n",
        "\n",
        "\n",
        "import tensorflow as tf\n",
        "from tensorflow.keras.utils import image_dataset_from_directory\n",
        "\n",
        "from tensorflow.keras.layers import (\n",
        "    InputLayer,\n",
        "    Rescaling,\n",
        "    RandomRotation,\n",
        "    RandomFlip,\n",
        "    RandomZoom,\n",
        "    RandomTranslation,\n",
        ")\n",
        "\n",
        "from tensorflow.keras import Sequential\n",
        "from tensorflow.keras.losses import SparseCategoricalCrossentropy\n",
        "from tensorflow.keras.optimizers import Adam\n",
        "\n",
        "%watermark -iv"
      ]
    },
    {
      "cell_type": "code",
      "execution_count": null,
      "metadata": {
        "ExecuteTime": {
          "end_time": "2022-10-01T00:56:47.236872Z",
          "start_time": "2022-10-01T00:56:47.157882Z"
        },
        "id": "L-L1xXavJ7SS"
      },
      "outputs": [],
      "source": [
        "# https://www.tensorflow.org/guide/mixed_precision\n",
        "\n",
        "tf.keras.mixed_precision.set_global_policy('mixed_float16')"
      ]
    },
    {
      "cell_type": "code",
      "execution_count": null,
      "metadata": {
        "ExecuteTime": {
          "end_time": "2022-10-01T00:56:47.252882Z",
          "start_time": "2022-10-01T00:56:47.237875Z"
        },
        "id": "rnkhPW4KJ7ST"
      },
      "outputs": [],
      "source": [
        "# from mobilenet_v1 import create_mobilenet_v1\n",
        "# from mobilenet_v2 import create_mobilenet_v2\n",
        "from mobilenet_v3 import create_mobilenet_v3"
      ]
    },
    {
      "cell_type": "code",
      "execution_count": null,
      "metadata": {
        "ExecuteTime": {
          "end_time": "2022-10-01T00:56:47.707878Z",
          "start_time": "2022-10-01T00:56:47.253868Z"
        },
        "colab": {
          "base_uri": "https://localhost:8080/"
        },
        "id": "dl4xNSzspRly",
        "outputId": "ef50be89-bb90-4c08-d425-a548679770de"
      },
      "outputs": [
        {
          "output_type": "stream",
          "name": "stdout",
          "text": [
            "[LogicalDevice(name='/device:GPU:0', device_type='GPU'), LogicalDevice(name='/device:GPU:1', device_type='GPU'), LogicalDevice(name='/device:GPU:2', device_type='GPU'), LogicalDevice(name='/device:GPU:3', device_type='GPU'), LogicalDevice(name='/device:GPU:4', device_type='GPU'), LogicalDevice(name='/device:GPU:5', device_type='GPU')]\n",
            "1 Physical GPU, 6 Logical GPUs\n"
          ]
        }
      ],
      "source": [
        "def set_seeds():\n",
        "    # fix random seeds\n",
        "    SEED_VALUE = 1\n",
        "\n",
        "    np.random.seed(SEED_VALUE)\n",
        "    tf.keras.utils.set_random_seed(SEED_VALUE)\n",
        "\n",
        "    # # https://github.com/tensorflow/tensorflow/issues/51978#issuecomment-918917286\n",
        "    # os.environ[\"TF_DISABLE_SEGMENT_REDUCTION_OP_DETERMINISM_EXCEPTIONS\"] = \"True\"\n",
        "\n",
        "    gpus = tf.config.list_physical_devices(\"GPU\")\n",
        "    if gpus:\n",
        "        try:\n",
        "            for gpu in gpus:\n",
        "                tf.config.experimental.set_memory_growth(gpu, True)\n",
        "            \n",
        "            # logical_gpus = tf.config.list_logical_devices(\"GPU\")\n",
        "            # print(logical_gpus)\n",
        "\n",
        "            # split 1 gpu in 2 logical gpus\n",
        "            tf.config.set_logical_device_configuration(\n",
        "                gpus[0], \n",
        "                [\n",
        "                    tf.config.LogicalDeviceConfiguration(memory_limit=2518),\n",
        "                    tf.config.LogicalDeviceConfiguration(memory_limit=2518),\n",
        "                    tf.config.LogicalDeviceConfiguration(memory_limit=2518),\n",
        "                    tf.config.LogicalDeviceConfiguration(memory_limit=2518),\n",
        "                    tf.config.LogicalDeviceConfiguration(memory_limit=2518),\n",
        "                    tf.config.LogicalDeviceConfiguration(memory_limit=2518),\n",
        "\n",
        "                ]\n",
        "            )\n",
        "\n",
        "            logical_gpus = tf.config.list_logical_devices(\"GPU\")\n",
        "            print(logical_gpus)\n",
        "            print(len(gpus), \"Physical GPU,\", len(logical_gpus), \"Logical GPUs\")\n",
        "\n",
        "        except RuntimeError as e:\n",
        "            print(e)\n",
        "\n",
        "    return\n",
        "\n",
        "set_seeds()"
      ]
    },
    {
      "cell_type": "code",
      "execution_count": null,
      "metadata": {
        "ExecuteTime": {
          "end_time": "2022-10-01T00:56:47.722862Z",
          "start_time": "2022-10-01T00:56:47.709866Z"
        },
        "id": "rsC7bxeTpRl5"
      },
      "outputs": [],
      "source": [
        "@dataclass\n",
        "class TrainingConfig:\n",
        "    BATCH_SIZE: int = 128\n",
        "    EPOCHS: int = 50\n",
        "    learning_rate: float = 0.001\n",
        "\n",
        "        \n",
        "@dataclass\n",
        "class DatasetConfig:\n",
        "    NUM_CLASSES: int = 2\n",
        "    DATA_ROOT: str = \"fruit_images\"\n",
        "    SIZE: tuple = (224, 224, 3)"
      ]
    },
    {
      "cell_type": "markdown",
      "metadata": {
        "id": "bDUnZXZMpRl5"
      },
      "source": [
        "The following code blocks contain all the preprocessing and augmentations that we will apply to the dataset here."
      ]
    },
    {
      "cell_type": "code",
      "execution_count": null,
      "metadata": {
        "ExecuteTime": {
          "end_time": "2022-10-01T00:56:47.737952Z",
          "start_time": "2022-10-01T00:56:47.723866Z"
        },
        "id": "8rcmuXGeZamU"
      },
      "outputs": [],
      "source": [
        "def data_augmentation_preprocess():\n",
        "\n",
        "    # Combine multiple augmentations in a single processing pipeline using a list of transformations.\n",
        "    data_augmentation_pipeline = Sequential(\n",
        "        [\n",
        "            RandomRotation(0.25, fill_mode=\"nearest\"),\n",
        "            RandomFlip(\"horizontal_and_vertical\"),\n",
        "            RandomZoom(\n",
        "                height_factor=(-0.25, 0.25),\n",
        "                width_factor=(-0.25, 0.25),\n",
        "                fill_mode=\"nearest\",\n",
        "            ),\n",
        "            # RandomBrightness((0.5, 0.8)),\n",
        "            # RandomContrast((0.3, 0.8))\n",
        "            RandomTranslation(height_factor=(-0.2, 0.3), width_factor=(-0.2, 0.3)),\n",
        "        ]\n",
        "    )\n",
        "    return data_augmentation_pipeline"
      ]
    },
    {
      "cell_type": "code",
      "execution_count": null,
      "metadata": {
        "ExecuteTime": {
          "end_time": "2022-10-01T00:56:47.753113Z",
          "start_time": "2022-10-01T00:56:47.739938Z"
        },
        "id": "iPBiZbCJJ8o0"
      },
      "outputs": [],
      "source": [
        "def get_data(\n",
        "    *,\n",
        "    data_root,\n",
        "    target_size=(224, 224),\n",
        "    batch_size=32,\n",
        "    data_augmentation=True,\n",
        "):\n",
        "\n",
        "    train_path = os.path.join(data_root, \"Train\")\n",
        "    train_dataset = image_dataset_from_directory(\n",
        "        train_path,\n",
        "        label_mode=\"int\",\n",
        "        color_mode=\"rgb\",\n",
        "        batch_size=batch_size,\n",
        "        image_size=target_size,\n",
        "        shuffle=True,\n",
        "    )\n",
        "\n",
        "    valid_path = os.path.join(data_root, \"Valid\")\n",
        "    valid_dataset = image_dataset_from_directory(\n",
        "        valid_path,\n",
        "        label_mode=\"int\",\n",
        "        color_mode=\"rgb\",\n",
        "        batch_size=batch_size,\n",
        "        image_size=target_size,\n",
        "        shuffle=False,\n",
        "    )\n",
        "\n",
        "    if data_augmentation:\n",
        "        data_augmentation_pipeline = data_augmentation_preprocess()\n",
        "        train_dataset = train_dataset.map(\n",
        "            lambda x, y: (data_augmentation_pipeline(x), y)\n",
        "        )\n",
        "\n",
        "    train_dataset = train_dataset.prefetch(tf.data.AUTOTUNE)\n",
        "    valid_dataset = valid_dataset.prefetch(tf.data.AUTOTUNE)\n",
        "\n",
        "    return train_dataset, valid_dataset"
      ]
    },
    {
      "cell_type": "code",
      "execution_count": null,
      "metadata": {
        "ExecuteTime": {
          "end_time": "2022-10-01T00:56:49.496199Z",
          "start_time": "2022-10-01T00:56:47.754108Z"
        },
        "colab": {
          "base_uri": "https://localhost:8080/"
        },
        "id": "5TwGZpHNJ7Sa",
        "outputId": "ae190c4f-4a15-4ada-987d-0263b22876fe"
      },
      "outputs": [
        {
          "output_type": "stream",
          "name": "stderr",
          "text": [
            "WARNING:tensorflow:NCCL is not supported when using virtual GPUs, fallingback to reduction to one device\n"
          ]
        },
        {
          "output_type": "stream",
          "name": "stdout",
          "text": [
            "Model: \"sequential\"\n",
            "_________________________________________________________________\n",
            " Layer (type)                Output Shape              Param #   \n",
            "=================================================================\n",
            " rescaling (Rescaling)       (None, 224, 224, 3)       0         \n",
            "                                                                 \n",
            " MobileNet-V3 (Functional)   (None, 2)                 331730    \n",
            "                                                                 \n",
            "=================================================================\n",
            "Total params: 331,730\n",
            "Trainable params: 327,394\n",
            "Non-trainable params: 4,336\n",
            "_________________________________________________________________\n"
          ]
        }
      ],
      "source": [
        "gpus = tf.config.list_logical_devices('GPU')\n",
        "strategy = tf.distribute.MirroredStrategy(gpus)\n",
        "\n",
        "with strategy.scope():\n",
        "    model = Sequential()\n",
        "    model.add(InputLayer(input_shape=DatasetConfig.SIZE))\n",
        "    model.add(Rescaling(1.0 / 255.0))\n",
        "    model.add(create_mobilenet_v3(\n",
        "        input_shape=DatasetConfig.SIZE,\n",
        "        alpha=0.3,\n",
        "        num_classes=DatasetConfig.NUM_CLASSES,\n",
        "        pooling=\"average\",\n",
        "        dropout_rate=0.3,\n",
        "        large=False,\n",
        "    ))\n",
        "\n",
        "\n",
        "    optimizer = Adam(learning_rate=TrainingConfig.learning_rate)\n",
        "\n",
        "    model.compile(\n",
        "        optimizer=optimizer,\n",
        "        loss=SparseCategoricalCrossentropy(from_logits=False),\n",
        "        metrics=[\"accuracy\"],\n",
        "    )\n",
        "\n",
        "model.summary()"
      ]
    },
    {
      "cell_type": "code",
      "execution_count": null,
      "metadata": {
        "ExecuteTime": {
          "end_time": "2022-10-01T00:57:09.340356Z",
          "start_time": "2022-10-01T00:56:49.498198Z"
        },
        "colab": {
          "base_uri": "https://localhost:8080/"
        },
        "id": "xjO5CqduJ7Sa",
        "outputId": "eab158be-294c-4a85-8811-3fb6b72d28d2"
      },
      "outputs": [
        {
          "output_type": "stream",
          "name": "stdout",
          "text": [
            "Found 2014 files belonging to 2 classes.\n",
            "Found 514 files belonging to 2 classes.\n",
            "Epoch 1/50\n",
            "16/16 [==============================] - 99s 926ms/step - loss: 0.5550 - accuracy: 0.7304 - val_loss: 0.6938 - val_accuracy: 0.4825\n",
            "Epoch 2/50\n",
            "16/16 [==============================] - 7s 389ms/step - loss: 0.4359 - accuracy: 0.8734 - val_loss: 0.6950 - val_accuracy: 0.4825\n",
            "Epoch 3/50\n",
            "16/16 [==============================] - 11s 609ms/step - loss: 0.4145 - accuracy: 0.8947 - val_loss: 0.6959 - val_accuracy: 0.4825\n",
            "Epoch 4/50\n",
            "16/16 [==============================] - 7s 391ms/step - loss: 0.4151 - accuracy: 0.8937 - val_loss: 0.6968 - val_accuracy: 0.4825\n",
            "Epoch 5/50\n",
            "16/16 [==============================] - 7s 382ms/step - loss: 0.4113 - accuracy: 0.8952 - val_loss: 0.6989 - val_accuracy: 0.4825\n",
            "Epoch 6/50\n",
            "16/16 [==============================] - 7s 388ms/step - loss: 0.4018 - accuracy: 0.9081 - val_loss: 0.6977 - val_accuracy: 0.4825\n",
            "Epoch 7/50\n",
            "16/16 [==============================] - 7s 385ms/step - loss: 0.3999 - accuracy: 0.9101 - val_loss: 0.6936 - val_accuracy: 0.4825\n",
            "Epoch 8/50\n",
            "16/16 [==============================] - 8s 399ms/step - loss: 0.3874 - accuracy: 0.9206 - val_loss: 0.6940 - val_accuracy: 0.4825\n",
            "Epoch 9/50\n",
            "16/16 [==============================] - 9s 436ms/step - loss: 0.3892 - accuracy: 0.9201 - val_loss: 0.6924 - val_accuracy: 0.5175\n",
            "Epoch 10/50\n",
            "16/16 [==============================] - 7s 386ms/step - loss: 0.3833 - accuracy: 0.9265 - val_loss: 0.6926 - val_accuracy: 0.5175\n",
            "Epoch 11/50\n",
            "16/16 [==============================] - 8s 389ms/step - loss: 0.3727 - accuracy: 0.9419 - val_loss: 0.6929 - val_accuracy: 0.5175\n",
            "Epoch 12/50\n",
            "16/16 [==============================] - 7s 386ms/step - loss: 0.3721 - accuracy: 0.9394 - val_loss: 0.6967 - val_accuracy: 0.5175\n",
            "Epoch 13/50\n",
            "16/16 [==============================] - 7s 388ms/step - loss: 0.3619 - accuracy: 0.9494 - val_loss: 0.6994 - val_accuracy: 0.5175\n",
            "Epoch 14/50\n",
            "16/16 [==============================] - 7s 388ms/step - loss: 0.3674 - accuracy: 0.9444 - val_loss: 0.7065 - val_accuracy: 0.5175\n",
            "Epoch 15/50\n",
            "16/16 [==============================] - 8s 422ms/step - loss: 0.3603 - accuracy: 0.9503 - val_loss: 0.7094 - val_accuracy: 0.5175\n",
            "Epoch 16/50\n",
            "16/16 [==============================] - 7s 386ms/step - loss: 0.3583 - accuracy: 0.9543 - val_loss: 0.7218 - val_accuracy: 0.5175\n",
            "Epoch 17/50\n",
            "16/16 [==============================] - 7s 384ms/step - loss: 0.3639 - accuracy: 0.9474 - val_loss: 0.6999 - val_accuracy: 0.5175\n",
            "Epoch 18/50\n",
            "16/16 [==============================] - 7s 386ms/step - loss: 0.3520 - accuracy: 0.9578 - val_loss: 0.6918 - val_accuracy: 0.5175\n",
            "Epoch 19/50\n",
            "16/16 [==============================] - 7s 387ms/step - loss: 0.3568 - accuracy: 0.9563 - val_loss: 0.6838 - val_accuracy: 0.5175\n",
            "Epoch 20/50\n",
            "16/16 [==============================] - 7s 386ms/step - loss: 0.3507 - accuracy: 0.9608 - val_loss: 0.6813 - val_accuracy: 0.5175\n",
            "Epoch 21/50\n",
            "16/16 [==============================] - 7s 382ms/step - loss: 0.3515 - accuracy: 0.9598 - val_loss: 0.6775 - val_accuracy: 0.5175\n",
            "Epoch 22/50\n",
            "16/16 [==============================] - 7s 392ms/step - loss: 0.3494 - accuracy: 0.9628 - val_loss: 0.5799 - val_accuracy: 0.7938\n",
            "Epoch 23/50\n",
            "16/16 [==============================] - 7s 386ms/step - loss: 0.3449 - accuracy: 0.9682 - val_loss: 0.6474 - val_accuracy: 0.5175\n",
            "Epoch 24/50\n",
            "16/16 [==============================] - 7s 390ms/step - loss: 0.3416 - accuracy: 0.9692 - val_loss: 0.5147 - val_accuracy: 0.8541\n",
            "Epoch 25/50\n",
            "16/16 [==============================] - 7s 382ms/step - loss: 0.3507 - accuracy: 0.9613 - val_loss: 0.6675 - val_accuracy: 0.5681\n",
            "Epoch 26/50\n",
            "16/16 [==============================] - 7s 384ms/step - loss: 0.3484 - accuracy: 0.9633 - val_loss: 0.6145 - val_accuracy: 0.6342\n",
            "Epoch 27/50\n",
            "16/16 [==============================] - 7s 387ms/step - loss: 0.3431 - accuracy: 0.9682 - val_loss: 0.5473 - val_accuracy: 0.7510\n",
            "Epoch 28/50\n",
            "16/16 [==============================] - 7s 381ms/step - loss: 0.3437 - accuracy: 0.9687 - val_loss: 0.5647 - val_accuracy: 0.7160\n",
            "Epoch 29/50\n",
            "16/16 [==============================] - 8s 433ms/step - loss: 0.3358 - accuracy: 0.9772 - val_loss: 0.4258 - val_accuracy: 0.8911\n",
            "Epoch 30/50\n",
            "16/16 [==============================] - 7s 378ms/step - loss: 0.3378 - accuracy: 0.9752 - val_loss: 0.4194 - val_accuracy: 0.8911\n",
            "Epoch 31/50\n",
            "16/16 [==============================] - 7s 383ms/step - loss: 0.3390 - accuracy: 0.9742 - val_loss: 0.4066 - val_accuracy: 0.9027\n",
            "Epoch 32/50\n",
            "16/16 [==============================] - 7s 386ms/step - loss: 0.3354 - accuracy: 0.9777 - val_loss: 0.4205 - val_accuracy: 0.8872\n",
            "Epoch 33/50\n",
            "16/16 [==============================] - 7s 381ms/step - loss: 0.3340 - accuracy: 0.9786 - val_loss: 0.4220 - val_accuracy: 0.8911\n",
            "Epoch 34/50\n",
            "16/16 [==============================] - 7s 386ms/step - loss: 0.3424 - accuracy: 0.9697 - val_loss: 0.4071 - val_accuracy: 0.9047\n",
            "Epoch 35/50\n",
            "16/16 [==============================] - 7s 388ms/step - loss: 0.3303 - accuracy: 0.9821 - val_loss: 0.4024 - val_accuracy: 0.9066\n",
            "Epoch 36/50\n",
            "16/16 [==============================] - 7s 379ms/step - loss: 0.3324 - accuracy: 0.9801 - val_loss: 0.3908 - val_accuracy: 0.9144\n",
            "Epoch 37/50\n",
            "16/16 [==============================] - 9s 474ms/step - loss: 0.3360 - accuracy: 0.9762 - val_loss: 0.3914 - val_accuracy: 0.9163\n",
            "Epoch 38/50\n",
            "16/16 [==============================] - 7s 388ms/step - loss: 0.3280 - accuracy: 0.9856 - val_loss: 0.4169 - val_accuracy: 0.8911\n",
            "Epoch 39/50\n",
            "16/16 [==============================] - 7s 394ms/step - loss: 0.3318 - accuracy: 0.9791 - val_loss: 0.4177 - val_accuracy: 0.8930\n",
            "Epoch 40/50\n",
            "16/16 [==============================] - 7s 384ms/step - loss: 0.3281 - accuracy: 0.9846 - val_loss: 0.4553 - val_accuracy: 0.8502\n",
            "Epoch 41/50\n",
            "16/16 [==============================] - 7s 382ms/step - loss: 0.3319 - accuracy: 0.9811 - val_loss: 0.4209 - val_accuracy: 0.8852\n",
            "Epoch 42/50\n",
            "16/16 [==============================] - 8s 398ms/step - loss: 0.3344 - accuracy: 0.9762 - val_loss: 0.4226 - val_accuracy: 0.8872\n",
            "Epoch 43/50\n",
            "16/16 [==============================] - 8s 421ms/step - loss: 0.3268 - accuracy: 0.9861 - val_loss: 0.4256 - val_accuracy: 0.8852\n",
            "Epoch 44/50\n",
            "16/16 [==============================] - 7s 391ms/step - loss: 0.3292 - accuracy: 0.9836 - val_loss: 0.4161 - val_accuracy: 0.8969\n",
            "Epoch 45/50\n",
            "16/16 [==============================] - 7s 389ms/step - loss: 0.3261 - accuracy: 0.9876 - val_loss: 0.4100 - val_accuracy: 0.8969\n",
            "Epoch 46/50\n",
            "16/16 [==============================] - 8s 383ms/step - loss: 0.3226 - accuracy: 0.9906 - val_loss: 0.4163 - val_accuracy: 0.8930\n",
            "Epoch 47/50\n",
            "16/16 [==============================] - 7s 389ms/step - loss: 0.3251 - accuracy: 0.9881 - val_loss: 0.3979 - val_accuracy: 0.9125\n",
            "Epoch 48/50\n",
            "16/16 [==============================] - 7s 388ms/step - loss: 0.3241 - accuracy: 0.9901 - val_loss: 0.4156 - val_accuracy: 0.8949\n",
            "Epoch 49/50\n",
            "16/16 [==============================] - 7s 391ms/step - loss: 0.3279 - accuracy: 0.9851 - val_loss: 0.4219 - val_accuracy: 0.8872\n",
            "Epoch 50/50\n",
            "16/16 [==============================] - 7s 381ms/step - loss: 0.3253 - accuracy: 0.9866 - val_loss: 0.4064 - val_accuracy: 0.9047\n"
          ]
        }
      ],
      "source": [
        "train_dataset, valid_dataset = get_data(\n",
        "    data_root=DatasetConfig.DATA_ROOT,\n",
        "    target_size=DatasetConfig.SIZE[:-1],\n",
        "    batch_size=TrainingConfig.BATCH_SIZE,\n",
        "    data_augmentation=True\n",
        ")\n",
        "\n",
        "\n",
        "history = model.fit(\n",
        "    train_dataset,\n",
        "    epochs=TrainingConfig.EPOCHS,\n",
        "    validation_data=valid_dataset,\n",
        "    #     callbacks=[\n",
        "    #         PlotLossesKerasTF(),\n",
        "    #     ],\n",
        "    verbose=1,\n",
        ")"
      ]
    }
  ],
  "metadata": {
    "accelerator": "GPU",
    "colab": {
      "collapsed_sections": [],
      "machine_shape": "hm",
      "provenance": []
    },
    "kernelspec": {
      "display_name": "Python 3.10.4 ('tensorflow2x')",
      "language": "python",
      "name": "python3"
    },
    "language_info": {
      "codemirror_mode": {
        "name": "ipython",
        "version": 3
      },
      "file_extension": ".py",
      "mimetype": "text/x-python",
      "name": "python",
      "nbconvert_exporter": "python",
      "pygments_lexer": "ipython3",
      "version": "3.10.4"
    },
    "toc": {
      "base_numbering": 1,
      "nav_menu": {},
      "number_sections": true,
      "sideBar": true,
      "skip_h1_title": false,
      "title_cell": "Table of Contents",
      "title_sidebar": "Contents",
      "toc_cell": false,
      "toc_position": {},
      "toc_section_display": true,
      "toc_window_display": false
    },
    "varInspector": {
      "cols": {
        "lenName": 16,
        "lenType": 16,
        "lenVar": 40
      },
      "kernels_config": {
        "python": {
          "delete_cmd_postfix": "",
          "delete_cmd_prefix": "del ",
          "library": "var_list.py",
          "varRefreshCmd": "print(var_dic_list())"
        },
        "r": {
          "delete_cmd_postfix": ") ",
          "delete_cmd_prefix": "rm(",
          "library": "var_list.r",
          "varRefreshCmd": "cat(var_dic_list()) "
        }
      },
      "types_to_exclude": [
        "module",
        "function",
        "builtin_function_or_method",
        "instance",
        "_Feature"
      ],
      "window_display": false
    },
    "vscode": {
      "interpreter": {
        "hash": "99a77f1bcf0bed14e2ee4a2578b8abfb7ce79ae803f16c634ce6e0d8b6ae34bc"
      }
    }
  },
  "nbformat": 4,
  "nbformat_minor": 0
}